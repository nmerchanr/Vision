{
 "cells": [
  {
   "cell_type": "code",
   "execution_count": 1,
   "id": "4d4500d4",
   "metadata": {},
   "outputs": [
    {
     "ename": "IndentationError",
     "evalue": "expected an indented block (Temp/ipykernel_20628/3587143536.py, line 10)",
     "output_type": "error",
     "traceback": [
      "\u001b[1;36m  File \u001b[1;32m\"C:\\Users\\PC\\AppData\\Local\\Temp/ipykernel_20628/3587143536.py\"\u001b[1;36m, line \u001b[1;32m10\u001b[0m\n\u001b[1;33m    dataset = {\u001b[0m\n\u001b[1;37m    ^\u001b[0m\n\u001b[1;31mIndentationError\u001b[0m\u001b[1;31m:\u001b[0m expected an indented block\n"
     ]
    }
   ],
   "source": [
    "from albumentations import Compose, RandomCrop, Resize, HorizontalFlip, ToGray, RGBShift,OneOf\n",
    "\n",
    "trans = Compose([\n",
    "    HorizontalFlip(p=0.3)\n",
    "])\n",
    "\n",
    "\n",
    "class Dataset(torch.utils.data.Dataset):\n",
    "    def _init_(self, X,Y, trans= None):\n",
    "        self.X=X\n",
    "        self.Y=Y\n",
    "        self.trans=trans\n",
    "    def _len_(self):\n",
    "        return len(self.X)\n",
    "    def _getitem_(self,ix):\n",
    "        img=self.X[ix]\n",
    "        if =self.trans:\n",
    "            img=trans(image=img)['image']\n",
    "        img=torch.from_numpy(img/255).float().cuda().view(-1)\n",
    "        label=torch.tensor(self.Y[ix]).long().cuda()\n",
    "        return img,label\n",
    "    \n"
   ]
  },
  {
   "cell_type": "code",
   "execution_count": null,
   "id": "10936274",
   "metadata": {},
   "outputs": [],
   "source": []
  }
 ],
 "metadata": {
  "kernelspec": {
   "display_name": "Python 3 (ipykernel)",
   "language": "python",
   "name": "python3"
  },
  "language_info": {
   "codemirror_mode": {
    "name": "ipython",
    "version": 3
   },
   "file_extension": ".py",
   "mimetype": "text/x-python",
   "name": "python",
   "nbconvert_exporter": "python",
   "pygments_lexer": "ipython3",
   "version": "3.9.7"
  }
 },
 "nbformat": 4,
 "nbformat_minor": 5
}
